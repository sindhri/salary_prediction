{
 "cells": [
  {
   "cell_type": "markdown",
   "metadata": {},
   "source": [
    "# Salary Prediction Based on Job Description\n",
    "\n",
    "# Part 1 - DEFINE\n",
    "\n",
    "----- 1. define the problem -----\n",
    "\n",
    "This project aims to predict salary based on job description, including job type, degree, major, industry, experience, distance to metropolis cities etc.\n",
    "\n",
    "We will apply several different models and find the one that generates the least Mean Standard Error.\n"
   ]
  },
  {
   "cell_type": "code",
   "execution_count": 2,
   "metadata": {},
   "outputs": [],
   "source": [
    "#import the libraries\n",
    "import pandas as pd\n",
    "import sklearn as sk\n",
    "import numpy as np\n"
   ]
  },
  {
   "cell_type": "markdown",
   "metadata": {},
   "source": [
    "# Part 2 - DISCOVERY\n",
    "---- 2. load the data ----"
   ]
  },
  {
   "cell_type": "code",
   "execution_count": 9,
   "metadata": {},
   "outputs": [],
   "source": [
    "#load the data into pandas dataframe\n",
    "features = pd.read_csv('data/train_features.csv')\n",
    "salaries = pd.read_csv('data/train_salaries.csv')\n",
    "test = pd.read_csv('data/test_features.csv')\n"
   ]
  },
  {
   "cell_type": "markdown",
   "metadata": {},
   "source": [
    "--- 3. exam and clean the data ---"
   ]
  },
  {
   "cell_type": "code",
   "execution_count": 39,
   "metadata": {},
   "outputs": [
    {
     "name": "stdout",
     "output_type": "stream",
     "text": [
      "              jobId companyId         jobType       degree      major  \\\n",
      "0  JOB1362684407687    COMP37             CFO      MASTERS       MATH   \n",
      "1  JOB1362684407688    COMP19             CEO  HIGH_SCHOOL       NONE   \n",
      "2  JOB1362684407689    COMP52  VICE_PRESIDENT     DOCTORAL    PHYSICS   \n",
      "3  JOB1362684407690    COMP38         MANAGER     DOCTORAL  CHEMISTRY   \n",
      "4  JOB1362684407691     COMP7  VICE_PRESIDENT    BACHELORS    PHYSICS   \n",
      "\n",
      "  industry  yearsExperience  milesFromMetropolis  \n",
      "0   HEALTH               10                   83  \n",
      "1      WEB                3                   73  \n",
      "2   HEALTH               10                   38  \n",
      "3     AUTO                8                   17  \n",
      "4  FINANCE                8                   16  \n",
      "1000000\n",
      "              jobId  salary\n",
      "0  JOB1362684407687     130\n",
      "1  JOB1362684407688     101\n",
      "2  JOB1362684407689     137\n",
      "3  JOB1362684407690     142\n",
      "4  JOB1362684407691     163\n",
      "1000000\n",
      "              jobId companyId  jobType       degree    major industry  \\\n",
      "0  JOB1362685407687    COMP33  MANAGER  HIGH_SCHOOL     NONE   HEALTH   \n",
      "1  JOB1362685407688    COMP13   JUNIOR         NONE     NONE     AUTO   \n",
      "2  JOB1362685407689    COMP10      CTO      MASTERS  BIOLOGY   HEALTH   \n",
      "3  JOB1362685407690    COMP21  MANAGER  HIGH_SCHOOL     NONE      OIL   \n",
      "4  JOB1362685407691    COMP36   JUNIOR     DOCTORAL  BIOLOGY      OIL   \n",
      "\n",
      "   yearsExperience  milesFromMetropolis  \n",
      "0               22                   73  \n",
      "1               20                   47  \n",
      "2               17                    9  \n",
      "3               14                   96  \n",
      "4               10                   44  \n",
      "1000000\n",
      "              jobId companyId         jobType       degree      major  \\\n",
      "0  JOB1362684407687    COMP37             CFO      MASTERS       MATH   \n",
      "1  JOB1362684407688    COMP19             CEO  HIGH_SCHOOL       NONE   \n",
      "2  JOB1362684407689    COMP52  VICE_PRESIDENT     DOCTORAL    PHYSICS   \n",
      "3  JOB1362684407690    COMP38         MANAGER     DOCTORAL  CHEMISTRY   \n",
      "4  JOB1362684407691     COMP7  VICE_PRESIDENT    BACHELORS    PHYSICS   \n",
      "\n",
      "  industry  yearsExperience  milesFromMetropolis  salary  \n",
      "0   HEALTH               10                   83     130  \n",
      "1      WEB                3                   73     101  \n",
      "2   HEALTH               10                   38     137  \n",
      "3     AUTO                8                   17     142  \n",
      "4  FINANCE                8                   16     163  \n",
      "1000000\n",
      "1000000\n",
      "1000000\n"
     ]
    }
   ],
   "source": [
    "print(features.head(5))\n",
    "print(len(features))\n",
    "\n",
    "print(salaries.head(5))\n",
    "print(len(salaries))\n",
    "\n",
    "print(test.head(5))\n",
    "print(len(test))\n",
    "\n",
    "#combined the features and salaries in the training data\n",
    "training = pd.merge(features,salaries, how = 'inner', on = 'jobId')\n",
    "print(training.head(5))\n",
    "print(len(training))\n",
    "\n",
    "#look for duplicated data and invalid data\n",
    "training = training.drop_duplicates(subset = \"jobId\")\n",
    "print(len(training))\n",
    "\n",
    "test = test.drop_duplicates(subset = \"jobId\")\n",
    "print(len(test))\n"
   ]
  },
  {
   "cell_type": "markdown",
   "metadata": {},
   "source": [
    "--- 4. Explore the data --- (EDA)"
   ]
  },
  {
   "cell_type": "code",
   "execution_count": 56,
   "metadata": {
    "scrolled": true
   },
   "outputs": [
    {
     "name": "stdout",
     "output_type": "stream",
     "text": [
      "<class 'pandas.core.frame.DataFrame'>\n",
      "Int64Index: 1000000 entries, 0 to 999999\n",
      "Data columns (total 9 columns):\n",
      "jobId                  1000000 non-null object\n",
      "companyId              1000000 non-null object\n",
      "jobType                1000000 non-null object\n",
      "degree                 1000000 non-null object\n",
      "major                  1000000 non-null object\n",
      "industry               1000000 non-null object\n",
      "yearsExperience        1000000 non-null int64\n",
      "milesFromMetropolis    1000000 non-null int64\n",
      "salary                 1000000 non-null int64\n",
      "dtypes: int64(3), object(6)\n",
      "memory usage: 76.3+ MB\n",
      "        yearsExperience  milesFromMetropolis  salary\n",
      "0                    10                   83     130\n",
      "1                     3                   73     101\n",
      "2                    10                   38     137\n",
      "3                     8                   17     142\n",
      "4                     8                   16     163\n",
      "...                 ...                  ...     ...\n",
      "999995               19                   94      88\n",
      "999996               12                   35     160\n",
      "999997               16                   81      64\n",
      "999998                6                    5     149\n",
      "999999               20                   11      88\n",
      "\n",
      "[1000000 rows x 3 columns]\n",
      "                   jobId companyId         jobType       degree      major  \\\n",
      "0       JOB1362684407687    COMP37             CFO      MASTERS       MATH   \n",
      "1       JOB1362684407688    COMP19             CEO  HIGH_SCHOOL       NONE   \n",
      "2       JOB1362684407689    COMP52  VICE_PRESIDENT     DOCTORAL    PHYSICS   \n",
      "3       JOB1362684407690    COMP38         MANAGER     DOCTORAL  CHEMISTRY   \n",
      "4       JOB1362684407691     COMP7  VICE_PRESIDENT    BACHELORS    PHYSICS   \n",
      "...                  ...       ...             ...          ...        ...   \n",
      "999995  JOB1362685407682    COMP56  VICE_PRESIDENT    BACHELORS  CHEMISTRY   \n",
      "999996  JOB1362685407683    COMP24             CTO  HIGH_SCHOOL       NONE   \n",
      "999997  JOB1362685407684    COMP23          JUNIOR  HIGH_SCHOOL       NONE   \n",
      "999998  JOB1362685407685     COMP3             CFO      MASTERS       NONE   \n",
      "999999  JOB1362685407686    COMP59          JUNIOR    BACHELORS       NONE   \n",
      "\n",
      "         industry  \n",
      "0          HEALTH  \n",
      "1             WEB  \n",
      "2          HEALTH  \n",
      "3            AUTO  \n",
      "4         FINANCE  \n",
      "...           ...  \n",
      "999995     HEALTH  \n",
      "999996    FINANCE  \n",
      "999997  EDUCATION  \n",
      "999998     HEALTH  \n",
      "999999  EDUCATION  \n",
      "\n",
      "[1000000 rows x 6 columns]\n"
     ]
    },
    {
     "data": {
      "text/plain": [
       "<matplotlib.axes._subplots.AxesSubplot at 0x7fea0c780c90>"
      ]
     },
     "execution_count": 56,
     "metadata": {},
     "output_type": "execute_result"
    }
   ],
   "source": [
    "#summarize each variable in the training set\n",
    "training.info()\n",
    "training.describe(include = np.number)\n",
    "#observation: the minimum salary is 0, which might be missing data\n",
    "training.loc[training[\"salary\"]==0]\n",
    "training.describe(include = [\"O\"])\n",
    "#make boxplot for each variables\n",
    "numeric = training.select_dtypes(include= np.number)\n",
    "categorical = training.select_dtypes(include = [\"O\"])\n",
    "print(numeric)\n",
    "print(categorical)\n"
   ]
  },
  {
   "cell_type": "code",
   "execution_count": 74,
   "metadata": {},
   "outputs": [
    {
     "name": "stdout",
     "output_type": "stream",
     "text": [
      "999995\n"
     ]
    },
    {
     "data": {
      "text/html": [
       "<div>\n",
       "<style scoped>\n",
       "    .dataframe tbody tr th:only-of-type {\n",
       "        vertical-align: middle;\n",
       "    }\n",
       "\n",
       "    .dataframe tbody tr th {\n",
       "        vertical-align: top;\n",
       "    }\n",
       "\n",
       "    .dataframe thead th {\n",
       "        text-align: right;\n",
       "    }\n",
       "</style>\n",
       "<table border=\"1\" class=\"dataframe\">\n",
       "  <thead>\n",
       "    <tr style=\"text-align: right;\">\n",
       "      <th></th>\n",
       "      <th>jobId</th>\n",
       "      <th>companyId</th>\n",
       "      <th>jobType</th>\n",
       "      <th>degree</th>\n",
       "      <th>major</th>\n",
       "      <th>industry</th>\n",
       "      <th>yearsExperience</th>\n",
       "      <th>milesFromMetropolis</th>\n",
       "      <th>salary</th>\n",
       "    </tr>\n",
       "  </thead>\n",
       "  <tbody>\n",
       "    <tr>\n",
       "      <td>60556</td>\n",
       "      <td>JOB1362684468243</td>\n",
       "      <td>COMP23</td>\n",
       "      <td>JANITOR</td>\n",
       "      <td>NONE</td>\n",
       "      <td>NONE</td>\n",
       "      <td>EDUCATION</td>\n",
       "      <td>1</td>\n",
       "      <td>93</td>\n",
       "      <td>19</td>\n",
       "    </tr>\n",
       "    <tr>\n",
       "      <td>67903</td>\n",
       "      <td>JOB1362684475590</td>\n",
       "      <td>COMP42</td>\n",
       "      <td>JANITOR</td>\n",
       "      <td>NONE</td>\n",
       "      <td>NONE</td>\n",
       "      <td>EDUCATION</td>\n",
       "      <td>0</td>\n",
       "      <td>95</td>\n",
       "      <td>19</td>\n",
       "    </tr>\n",
       "    <tr>\n",
       "      <td>141942</td>\n",
       "      <td>JOB1362684549629</td>\n",
       "      <td>COMP27</td>\n",
       "      <td>JANITOR</td>\n",
       "      <td>NONE</td>\n",
       "      <td>NONE</td>\n",
       "      <td>EDUCATION</td>\n",
       "      <td>0</td>\n",
       "      <td>98</td>\n",
       "      <td>17</td>\n",
       "    </tr>\n",
       "    <tr>\n",
       "      <td>188931</td>\n",
       "      <td>JOB1362684596618</td>\n",
       "      <td>COMP26</td>\n",
       "      <td>JANITOR</td>\n",
       "      <td>HIGH_SCHOOL</td>\n",
       "      <td>NONE</td>\n",
       "      <td>EDUCATION</td>\n",
       "      <td>1</td>\n",
       "      <td>96</td>\n",
       "      <td>18</td>\n",
       "    </tr>\n",
       "    <tr>\n",
       "      <td>207218</td>\n",
       "      <td>JOB1362684614905</td>\n",
       "      <td>COMP20</td>\n",
       "      <td>JANITOR</td>\n",
       "      <td>HIGH_SCHOOL</td>\n",
       "      <td>NONE</td>\n",
       "      <td>EDUCATION</td>\n",
       "      <td>0</td>\n",
       "      <td>81</td>\n",
       "      <td>19</td>\n",
       "    </tr>\n",
       "    <tr>\n",
       "      <td>315538</td>\n",
       "      <td>JOB1362684723225</td>\n",
       "      <td>COMP20</td>\n",
       "      <td>JANITOR</td>\n",
       "      <td>HIGH_SCHOOL</td>\n",
       "      <td>NONE</td>\n",
       "      <td>EDUCATION</td>\n",
       "      <td>2</td>\n",
       "      <td>93</td>\n",
       "      <td>19</td>\n",
       "    </tr>\n",
       "    <tr>\n",
       "      <td>477468</td>\n",
       "      <td>JOB1362684885155</td>\n",
       "      <td>COMP52</td>\n",
       "      <td>JANITOR</td>\n",
       "      <td>NONE</td>\n",
       "      <td>NONE</td>\n",
       "      <td>EDUCATION</td>\n",
       "      <td>0</td>\n",
       "      <td>91</td>\n",
       "      <td>19</td>\n",
       "    </tr>\n",
       "    <tr>\n",
       "      <td>482429</td>\n",
       "      <td>JOB1362684890116</td>\n",
       "      <td>COMP46</td>\n",
       "      <td>JANITOR</td>\n",
       "      <td>NONE</td>\n",
       "      <td>NONE</td>\n",
       "      <td>EDUCATION</td>\n",
       "      <td>0</td>\n",
       "      <td>92</td>\n",
       "      <td>18</td>\n",
       "    </tr>\n",
       "    <tr>\n",
       "      <td>640895</td>\n",
       "      <td>JOB1362685048582</td>\n",
       "      <td>COMP57</td>\n",
       "      <td>JANITOR</td>\n",
       "      <td>NONE</td>\n",
       "      <td>NONE</td>\n",
       "      <td>EDUCATION</td>\n",
       "      <td>0</td>\n",
       "      <td>84</td>\n",
       "      <td>19</td>\n",
       "    </tr>\n",
       "    <tr>\n",
       "      <td>677635</td>\n",
       "      <td>JOB1362685085322</td>\n",
       "      <td>COMP61</td>\n",
       "      <td>JANITOR</td>\n",
       "      <td>NONE</td>\n",
       "      <td>NONE</td>\n",
       "      <td>EDUCATION</td>\n",
       "      <td>0</td>\n",
       "      <td>96</td>\n",
       "      <td>19</td>\n",
       "    </tr>\n",
       "    <tr>\n",
       "      <td>692832</td>\n",
       "      <td>JOB1362685100519</td>\n",
       "      <td>COMP20</td>\n",
       "      <td>JANITOR</td>\n",
       "      <td>NONE</td>\n",
       "      <td>NONE</td>\n",
       "      <td>EDUCATION</td>\n",
       "      <td>0</td>\n",
       "      <td>88</td>\n",
       "      <td>19</td>\n",
       "    </tr>\n",
       "    <tr>\n",
       "      <td>798142</td>\n",
       "      <td>JOB1362685205829</td>\n",
       "      <td>COMP38</td>\n",
       "      <td>JANITOR</td>\n",
       "      <td>NONE</td>\n",
       "      <td>NONE</td>\n",
       "      <td>EDUCATION</td>\n",
       "      <td>0</td>\n",
       "      <td>75</td>\n",
       "      <td>19</td>\n",
       "    </tr>\n",
       "    <tr>\n",
       "      <td>807108</td>\n",
       "      <td>JOB1362685214795</td>\n",
       "      <td>COMP29</td>\n",
       "      <td>JANITOR</td>\n",
       "      <td>HIGH_SCHOOL</td>\n",
       "      <td>NONE</td>\n",
       "      <td>EDUCATION</td>\n",
       "      <td>0</td>\n",
       "      <td>92</td>\n",
       "      <td>18</td>\n",
       "    </tr>\n",
       "    <tr>\n",
       "      <td>981967</td>\n",
       "      <td>JOB1362685389654</td>\n",
       "      <td>COMP28</td>\n",
       "      <td>JANITOR</td>\n",
       "      <td>NONE</td>\n",
       "      <td>NONE</td>\n",
       "      <td>EDUCATION</td>\n",
       "      <td>0</td>\n",
       "      <td>92</td>\n",
       "      <td>19</td>\n",
       "    </tr>\n",
       "  </tbody>\n",
       "</table>\n",
       "</div>"
      ],
      "text/plain": [
       "                   jobId companyId  jobType       degree major   industry  \\\n",
       "60556   JOB1362684468243    COMP23  JANITOR         NONE  NONE  EDUCATION   \n",
       "67903   JOB1362684475590    COMP42  JANITOR         NONE  NONE  EDUCATION   \n",
       "141942  JOB1362684549629    COMP27  JANITOR         NONE  NONE  EDUCATION   \n",
       "188931  JOB1362684596618    COMP26  JANITOR  HIGH_SCHOOL  NONE  EDUCATION   \n",
       "207218  JOB1362684614905    COMP20  JANITOR  HIGH_SCHOOL  NONE  EDUCATION   \n",
       "315538  JOB1362684723225    COMP20  JANITOR  HIGH_SCHOOL  NONE  EDUCATION   \n",
       "477468  JOB1362684885155    COMP52  JANITOR         NONE  NONE  EDUCATION   \n",
       "482429  JOB1362684890116    COMP46  JANITOR         NONE  NONE  EDUCATION   \n",
       "640895  JOB1362685048582    COMP57  JANITOR         NONE  NONE  EDUCATION   \n",
       "677635  JOB1362685085322    COMP61  JANITOR         NONE  NONE  EDUCATION   \n",
       "692832  JOB1362685100519    COMP20  JANITOR         NONE  NONE  EDUCATION   \n",
       "798142  JOB1362685205829    COMP38  JANITOR         NONE  NONE  EDUCATION   \n",
       "807108  JOB1362685214795    COMP29  JANITOR  HIGH_SCHOOL  NONE  EDUCATION   \n",
       "981967  JOB1362685389654    COMP28  JANITOR         NONE  NONE  EDUCATION   \n",
       "\n",
       "        yearsExperience  milesFromMetropolis  salary  \n",
       "60556                 1                   93      19  \n",
       "67903                 0                   95      19  \n",
       "141942                0                   98      17  \n",
       "188931                1                   96      18  \n",
       "207218                0                   81      19  \n",
       "315538                2                   93      19  \n",
       "477468                0                   91      19  \n",
       "482429                0                   92      18  \n",
       "640895                0                   84      19  \n",
       "677635                0                   96      19  \n",
       "692832                0                   88      19  \n",
       "798142                0                   75      19  \n",
       "807108                0                   92      18  \n",
       "981967                0                   92      19  "
      ]
     },
     "execution_count": 74,
     "metadata": {},
     "output_type": "execute_result"
    },
    {
     "data": {
      "image/png": "[encoded data removed]",
      "text/plain": [
       "<Figure size 432x288 with 1 Axes>"
      ]
     },
     "metadata": {
      "needs_background": "light"
     },
     "output_type": "display_data"
    },
    {
     "data": {
      "image/png": "[encoded data removed]",
      "text/plain": [
       "<Figure size 432x288 with 1 Axes>"
      ]
     },
     "metadata": {
      "needs_background": "light"
     },
     "output_type": "display_data"
    }
   ],
   "source": [
    "#create boxplot for each numeric columns\n",
    "numeric.boxplot()\n",
    "#observation: some outliers in salary\n",
    "#plot the distribution of salary\n",
    "numeric.hist(\"salary\")\n",
    "#exam the extreme values in salary\n",
    "training[training[\"salary\"]<20]\n",
    "#remove salary==0\n",
    "training = training[training.salary>0]\n",
    "print(len(training))\n",
    "training['salary'].value_counts().sort_index().head(20)\n",
    "#observation: exam the validity of salary = 17, 18, 19 because there are 10 or less records\n",
    "training[training[\"salary\"]<20]\n",
    "#observation, the jobType is all janitor, with low education, so the values are reasonable."
   ]
  },
  {
   "cell_type": "code",
   "execution_count": null,
   "metadata": {},
   "outputs": [],
   "source": [
    "#look for correlation between each feature and the target\n",
    "\n",
    "#look for correlation between features"
   ]
  },
  {
   "cell_type": "markdown",
   "metadata": {},
   "source": [
    "--- 5. Establish a baseline ---"
   ]
  },
  {
   "cell_type": "code",
   "execution_count": null,
   "metadata": {},
   "outputs": [],
   "source": [
    "#select a reasonable metric (RMSE)\n",
    "#create an extremely simple model and measure its efficacy\n",
    "#e.g. the averaged salary for each industry\n",
    "#Measure RMSE\n",
    "#5-fold cross-validation"
   ]
  },
  {
   "cell_type": "markdown",
   "metadata": {},
   "source": [
    "--- 6. Hypothesize Solution ---\n",
    "\n",
    "choose three models that may provide better results than the baseline, based on EDA, and explain why\n",
    "potential new features such as interaction variables, summary statistic for each group."
   ]
  },
  {
   "cell_type": "code",
   "execution_count": null,
   "metadata": {},
   "outputs": [],
   "source": [
    "#\n"
   ]
  },
  {
   "cell_type": "markdown",
   "metadata": {},
   "source": [
    "# Part 3 - DEPOLY\n",
    "Cycle through creating features, tuning models, and training validating models (step 7-9) until reach the efficacy goal: 320 for senior data scientist\n",
    "\n",
    "--- 7 Engineer features ---"
   ]
  },
  {
   "cell_type": "code",
   "execution_count": null,
   "metadata": {},
   "outputs": [],
   "source": [
    "#make sure the data is ready for machine learning\n",
    "#create any new features"
   ]
  },
  {
   "cell_type": "markdown",
   "metadata": {},
   "source": [
    "--- 8 Create Models ---"
   ]
  },
  {
   "cell_type": "code",
   "execution_count": null,
   "metadata": {},
   "outputs": [],
   "source": [
    "#create and turn the models"
   ]
  },
  {
   "cell_type": "markdown",
   "metadata": {},
   "source": [
    "--- 9. test models ---"
   ]
  },
  {
   "cell_type": "code",
   "execution_count": null,
   "metadata": {},
   "outputs": [],
   "source": [
    "#do 5-fold cross-validation on models and measure RMSE"
   ]
  },
  {
   "cell_type": "markdown",
   "metadata": {},
   "source": [
    "--- 10. Select the best model ---"
   ]
  },
  {
   "cell_type": "code",
   "execution_count": null,
   "metadata": {},
   "outputs": [],
   "source": []
  },
  {
   "cell_type": "markdown",
   "metadata": {},
   "source": [
    "# Part 4 - DEPLOY\n",
    "--- 11. automate pipeline ---"
   ]
  },
  {
   "cell_type": "code",
   "execution_count": null,
   "metadata": {},
   "outputs": [],
   "source": []
  },
  {
   "cell_type": "markdown",
   "metadata": {},
   "source": [
    "--- 12. deploy solution ---\n"
   ]
  },
  {
   "cell_type": "code",
   "execution_count": null,
   "metadata": {},
   "outputs": [],
   "source": [
    "#save results to csv or database\n",
    "#visualization for models and feature importance"
   ]
  },
  {
   "cell_type": "markdown",
   "metadata": {},
   "source": [
    "---13. measure efficacy ---"
   ]
  }
 ],
 "metadata": {
  "kernelspec": {
   "display_name": "Python 3",
   "language": "python",
   "name": "python3"
  },
  "language_info": {
   "codemirror_mode": {
    "name": "ipython",
    "version": 3
   },
   "file_extension": ".py",
   "mimetype": "text/x-python",
   "name": "python",
   "nbconvert_exporter": "python",
   "pygments_lexer": "ipython3",
   "version": "3.7.4"
  }
 },
 "nbformat": 4,
 "nbformat_minor": 2
}
